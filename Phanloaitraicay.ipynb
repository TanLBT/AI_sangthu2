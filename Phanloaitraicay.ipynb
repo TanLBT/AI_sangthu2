{
  "nbformat": 4,
  "nbformat_minor": 0,
  "metadata": {
    "colab": {
      "provenance": [],
      "gpuType": "T4",
      "mount_file_id": "1cK1dVjzktCKVllVjknOUz9wVFf0Fsip5",
      "authorship_tag": "ABX9TyNM+YD+pRfIw/2h1vTwGH/X",
      "include_colab_link": true
    },
    "kernelspec": {
      "name": "python3",
      "display_name": "Python 3"
    },
    "language_info": {
      "name": "python"
    },
    "gpuClass": "standard",
    "accelerator": "GPU"
  },
  "cells": [
    {
      "cell_type": "markdown",
      "metadata": {
        "id": "view-in-github",
        "colab_type": "text"
      },
      "source": [
        "<a href=\"https://colab.research.google.com/github/TanLBT/AI_sangthu2/blob/main/Phanloaitraicay.ipynb\" target=\"_parent\"><img src=\"https://colab.research.google.com/assets/colab-badge.svg\" alt=\"Open In Colab\"/></a>"
      ]
    },
    {
      "cell_type": "code",
      "execution_count": 11,
      "metadata": {
        "colab": {
          "base_uri": "https://localhost:8080/"
        },
        "id": "ZvkJ8L-aQEuM",
        "outputId": "2327cc62-780a-4c8c-b108-de32baad8d78"
      },
      "outputs": [
        {
          "output_type": "stream",
          "name": "stdout",
          "text": [
            "Drive already mounted at /content/drive; to attempt to forcibly remount, call drive.mount(\"/content/drive\", force_remount=True).\n"
          ]
        }
      ],
      "source": [
        "from os import listdir\n",
        "from numpy import asarray\n",
        "from numpy import save\n",
        "from keras.utils import load_img, img_to_array\n",
        "import matplotlib.pyplot as plt\n",
        "from google.colab import drive\n",
        "drive.mount('/content/drive')"
      ]
    },
    {
      "cell_type": "code",
      "source": [
        "\"\"\"folder = '/content/drive/MyDrive/projectAI/phanloaitraicay'\n",
        "photos, labels = list(), list()\n",
        "for file in listdir(folder):\n",
        "  if file.startswith('quacam'):\n",
        "    output = 0\n",
        "  elif file.startswith('quale'):\n",
        "    output = 1\n",
        "  elif file.startswith('quana'):\n",
        "    output = 2\n",
        "  elif file.startswith('quaduale'):\n",
        "    output = 3\n",
        "  elif file.startswith('quathanglong'):\n",
        "    output = 4\n",
        "  else:\n",
        "    continue\n",
        "  photo = load_img(folder + '/' + file, target_size=(80, 80))\n",
        "  photo = img_to_array(photo)\n",
        "  photos.append(photo)\n",
        "  labels.append(output)\n",
        "photos = asarray(photos)\n",
        "labels = asarray(labels)\n",
        "save('Photos.npy', photos)\n",
        "save('Labels.npy', labels)\"\"\""
      ],
      "metadata": {
        "id": "2x91WyllS3EI"
      },
      "execution_count": null,
      "outputs": []
    },
    {
      "cell_type": "code",
      "source": [
        "\"\"\"!cp Photos.npy '/content/drive/MyDrive/projectAI'\n",
        "!cp Labels.npy '/content/drive/MyDrive/projectAI'\"\"\""
      ],
      "metadata": {
        "id": "yL9BqJByQ56C"
      },
      "execution_count": null,
      "outputs": []
    },
    {
      "cell_type": "code",
      "source": [
        "from sklearn.model_selection import train_test_split\n",
        "import numpy as np\n",
        "photos = np.load('/content/drive/MyDrive/projectAI/Photos.npy')\n",
        "labels = np.load('/content/drive/MyDrive/projectAI/Labels.npy')\n",
        "\n",
        "x_train, x_test, y_train, y_test = train_test_split(photos, labels, test_size=0.3)"
      ],
      "metadata": {
        "id": "9gy_f5JqQ6CB"
      },
      "execution_count": null,
      "outputs": []
    },
    {
      "cell_type": "code",
      "source": [
        "print(\"x_train shape: \", x_train.shape)\n",
        "print(\"x_test shape: \", x_test.shape)\n",
        "print(\"y_train shape: \", y_train.shape)\n",
        "print(\"y_test shape: \", y_test.shape)"
      ],
      "metadata": {
        "id": "o2_tPQZoQ6IK"
      },
      "execution_count": null,
      "outputs": []
    },
    {
      "cell_type": "code",
      "source": [
        "x_train = x_train.reshape(x_train.shape[0], 80, 80, 3)\n",
        "x_test = x_test.reshape(x_test.shape[0], 80, 80, 3)\n",
        "x_train = x_train.astype('float32') / 255\n",
        "x_test = x_test.astype('float32') / 255"
      ],
      "metadata": {
        "id": "vN0R5CQPQ6Pq"
      },
      "execution_count": null,
      "outputs": []
    },
    {
      "cell_type": "code",
      "source": [
        "from keras.utils import to_categorical\n",
        "y_train = to_categorical(y_train, 5)\n",
        "y_test = to_categorical(y_test, 5)"
      ],
      "metadata": {
        "id": "fSycwTHPty4V"
      },
      "execution_count": null,
      "outputs": []
    },
    {
      "cell_type": "code",
      "source": [
        "from keras.models import Sequential\n",
        "from keras.layers import Dense, Conv2D, Flatten, MaxPooling2D, LeakyReLU, Dropout\n",
        "model = Sequential()\n",
        "#training data to recognize different faces, remember to use LeakyReLU, Dropout, Normalization\n",
        "model.add(Conv2D(32, kernel_size=3, activation='relu', input_shape=(80, 80, 3)))\n",
        "model.add(LeakyReLU(alpha=0.1))\n",
        "model.add(MaxPooling2D(pool_size=(2, 2)))\n",
        "model.add(Dropout(0.25))\n",
        "\n",
        "model.add(Conv2D(64, kernel_size=3, activation='relu'))\n",
        "model.add(LeakyReLU(alpha=0.1))\n",
        "model.add(MaxPooling2D(pool_size=(2, 2)))\n",
        "model.add(Dropout(0.25))\n",
        "\n",
        "model.add(Conv2D(128, kernel_size=3, activation='relu'))\n",
        "model.add(LeakyReLU(alpha=0.1))\n",
        "model.add(MaxPooling2D(pool_size=(2, 2)))\n",
        "model.add(Dropout(0.4))\n",
        "\n",
        "model.add(Flatten())\n",
        "\n",
        "model.add(Dense(128, activation='relu'))\n",
        "model.add(LeakyReLU(alpha=0.1))\n",
        "model.add(Dropout(0.3))\n",
        "\n",
        "model.add(Dense(5, activation='softmax'))\n",
        "\n",
        "model.summary()\n"
      ],
      "metadata": {
        "colab": {
          "base_uri": "https://localhost:8080/"
        },
        "id": "Ny3G6Qt8ty6t",
        "outputId": "b892c989-41bf-4940-90e6-037f9df86753"
      },
      "execution_count": 18,
      "outputs": [
        {
          "output_type": "stream",
          "name": "stdout",
          "text": [
            "Model: \"sequential_3\"\n",
            "_________________________________________________________________\n",
            " Layer (type)                Output Shape              Param #   \n",
            "=================================================================\n",
            " conv2d_9 (Conv2D)           (None, 78, 78, 32)        896       \n",
            "                                                                 \n",
            " leaky_re_lu_12 (LeakyReLU)  (None, 78, 78, 32)        0         \n",
            "                                                                 \n",
            " max_pooling2d_9 (MaxPooling  (None, 39, 39, 32)       0         \n",
            " 2D)                                                             \n",
            "                                                                 \n",
            " dropout_12 (Dropout)        (None, 39, 39, 32)        0         \n",
            "                                                                 \n",
            " conv2d_10 (Conv2D)          (None, 37, 37, 64)        18496     \n",
            "                                                                 \n",
            " leaky_re_lu_13 (LeakyReLU)  (None, 37, 37, 64)        0         \n",
            "                                                                 \n",
            " max_pooling2d_10 (MaxPoolin  (None, 18, 18, 64)       0         \n",
            " g2D)                                                            \n",
            "                                                                 \n",
            " dropout_13 (Dropout)        (None, 18, 18, 64)        0         \n",
            "                                                                 \n",
            " conv2d_11 (Conv2D)          (None, 16, 16, 128)       73856     \n",
            "                                                                 \n",
            " leaky_re_lu_14 (LeakyReLU)  (None, 16, 16, 128)       0         \n",
            "                                                                 \n",
            " max_pooling2d_11 (MaxPoolin  (None, 8, 8, 128)        0         \n",
            " g2D)                                                            \n",
            "                                                                 \n",
            " dropout_14 (Dropout)        (None, 8, 8, 128)         0         \n",
            "                                                                 \n",
            " flatten_3 (Flatten)         (None, 8192)              0         \n",
            "                                                                 \n",
            " dense_6 (Dense)             (None, 128)               1048704   \n",
            "                                                                 \n",
            " leaky_re_lu_15 (LeakyReLU)  (None, 128)               0         \n",
            "                                                                 \n",
            " dropout_15 (Dropout)        (None, 128)               0         \n",
            "                                                                 \n",
            " dense_7 (Dense)             (None, 5)                 645       \n",
            "                                                                 \n",
            "=================================================================\n",
            "Total params: 1,142,597\n",
            "Trainable params: 1,142,597\n",
            "Non-trainable params: 0\n",
            "_________________________________________________________________\n"
          ]
        }
      ]
    },
    {
      "cell_type": "code",
      "source": [
        "model.compile(optimizer='adam', loss='categorical_crossentropy', metrics=['accuracy'])\n",
        "training = model.fit(x_train, y_train, validation_data=(x_test, y_test), batch_size = 32, epochs=100)"
      ],
      "metadata": {
        "colab": {
          "base_uri": "https://localhost:8080/"
        },
        "id": "yLm_583it5dh",
        "outputId": "b834aeb3-08db-4b68-dfbf-1fdb0afa1929"
      },
      "execution_count": 19,
      "outputs": [
        {
          "output_type": "stream",
          "name": "stdout",
          "text": [
            "Epoch 1/100\n",
            "330/330 [==============================] - 9s 18ms/step - loss: 0.5048 - accuracy: 0.7024 - val_loss: 0.3762 - val_accuracy: 0.7472\n",
            "Epoch 2/100\n",
            "330/330 [==============================] - 4s 13ms/step - loss: 0.3639 - accuracy: 0.7427 - val_loss: 0.3595 - val_accuracy: 0.7379\n",
            "Epoch 3/100\n",
            "330/330 [==============================] - 5s 14ms/step - loss: 0.3557 - accuracy: 0.7492 - val_loss: 0.3601 - val_accuracy: 0.7397\n",
            "Epoch 4/100\n",
            "330/330 [==============================] - 5s 14ms/step - loss: 0.5006 - accuracy: 0.7166 - val_loss: 0.3745 - val_accuracy: 0.7390\n",
            "Epoch 5/100\n",
            "330/330 [==============================] - 4s 13ms/step - loss: 0.3699 - accuracy: 0.7450 - val_loss: 0.3587 - val_accuracy: 0.7397\n",
            "Epoch 6/100\n",
            "330/330 [==============================] - 5s 15ms/step - loss: 0.3560 - accuracy: 0.7466 - val_loss: 0.3558 - val_accuracy: 0.7452\n",
            "Epoch 7/100\n",
            "330/330 [==============================] - 5s 14ms/step - loss: 0.3555 - accuracy: 0.7426 - val_loss: 0.3557 - val_accuracy: 0.7399\n",
            "Epoch 8/100\n",
            "330/330 [==============================] - 4s 13ms/step - loss: 0.3885 - accuracy: 0.7400 - val_loss: 0.3608 - val_accuracy: 0.7428\n",
            "Epoch 9/100\n",
            "330/330 [==============================] - 5s 14ms/step - loss: 0.3582 - accuracy: 0.7486 - val_loss: 0.3574 - val_accuracy: 0.7474\n",
            "Epoch 10/100\n",
            "330/330 [==============================] - 5s 14ms/step - loss: 0.3527 - accuracy: 0.7496 - val_loss: 0.3560 - val_accuracy: 0.7478\n",
            "Epoch 11/100\n",
            "330/330 [==============================] - 4s 13ms/step - loss: 0.3530 - accuracy: 0.7438 - val_loss: 0.3560 - val_accuracy: 0.7476\n",
            "Epoch 12/100\n",
            "330/330 [==============================] - 5s 14ms/step - loss: 0.3529 - accuracy: 0.7495 - val_loss: 0.3571 - val_accuracy: 0.7386\n",
            "Epoch 13/100\n",
            "330/330 [==============================] - 5s 14ms/step - loss: 0.3526 - accuracy: 0.7445 - val_loss: 0.3568 - val_accuracy: 0.7383\n",
            "Epoch 14/100\n",
            "330/330 [==============================] - 4s 13ms/step - loss: 0.3540 - accuracy: 0.7443 - val_loss: 0.3567 - val_accuracy: 0.7359\n",
            "Epoch 15/100\n",
            "330/330 [==============================] - 5s 15ms/step - loss: 0.3531 - accuracy: 0.7451 - val_loss: 0.3570 - val_accuracy: 0.7476\n",
            "Epoch 16/100\n",
            "330/330 [==============================] - 5s 14ms/step - loss: 0.3526 - accuracy: 0.7426 - val_loss: 0.3559 - val_accuracy: 0.7476\n",
            "Epoch 17/100\n",
            "330/330 [==============================] - 4s 13ms/step - loss: 0.3527 - accuracy: 0.7444 - val_loss: 0.3562 - val_accuracy: 0.7399\n",
            "Epoch 18/100\n",
            "330/330 [==============================] - 5s 16ms/step - loss: 0.3526 - accuracy: 0.7441 - val_loss: 0.3558 - val_accuracy: 0.7465\n",
            "Epoch 19/100\n",
            "330/330 [==============================] - 4s 13ms/step - loss: 0.3799 - accuracy: 0.7433 - val_loss: 0.3707 - val_accuracy: 0.7388\n",
            "Epoch 20/100\n",
            "330/330 [==============================] - 4s 13ms/step - loss: 0.3610 - accuracy: 0.7445 - val_loss: 0.3553 - val_accuracy: 0.7478\n",
            "Epoch 21/100\n",
            "330/330 [==============================] - 5s 14ms/step - loss: 0.3565 - accuracy: 0.7434 - val_loss: 0.3570 - val_accuracy: 0.7399\n",
            "Epoch 22/100\n",
            "330/330 [==============================] - 4s 14ms/step - loss: 0.3522 - accuracy: 0.7466 - val_loss: 0.3555 - val_accuracy: 0.7465\n",
            "Epoch 23/100\n",
            "330/330 [==============================] - 4s 13ms/step - loss: 0.3522 - accuracy: 0.7566 - val_loss: 0.3556 - val_accuracy: 0.7467\n",
            "Epoch 24/100\n",
            "330/330 [==============================] - 5s 16ms/step - loss: 0.3521 - accuracy: 0.7475 - val_loss: 0.3571 - val_accuracy: 0.7399\n",
            "Epoch 25/100\n",
            "330/330 [==============================] - 4s 14ms/step - loss: 0.3523 - accuracy: 0.7483 - val_loss: 0.3563 - val_accuracy: 0.7390\n",
            "Epoch 26/100\n",
            "330/330 [==============================] - 4s 13ms/step - loss: 0.3522 - accuracy: 0.7415 - val_loss: 0.3563 - val_accuracy: 0.7476\n",
            "Epoch 27/100\n",
            "330/330 [==============================] - 5s 16ms/step - loss: 0.3629 - accuracy: 0.7442 - val_loss: 0.3663 - val_accuracy: 0.7372\n",
            "Epoch 28/100\n",
            "330/330 [==============================] - 4s 13ms/step - loss: 0.3558 - accuracy: 0.7482 - val_loss: 0.3561 - val_accuracy: 0.7390\n",
            "Epoch 29/100\n",
            "330/330 [==============================] - 4s 13ms/step - loss: 0.3522 - accuracy: 0.7496 - val_loss: 0.3559 - val_accuracy: 0.7372\n",
            "Epoch 30/100\n",
            "330/330 [==============================] - 5s 16ms/step - loss: 0.3518 - accuracy: 0.7485 - val_loss: 0.3559 - val_accuracy: 0.7470\n",
            "Epoch 31/100\n",
            "330/330 [==============================] - 4s 13ms/step - loss: 0.3520 - accuracy: 0.7460 - val_loss: 0.3557 - val_accuracy: 0.7366\n",
            "Epoch 32/100\n",
            "330/330 [==============================] - 4s 13ms/step - loss: 0.3521 - accuracy: 0.7433 - val_loss: 0.3571 - val_accuracy: 0.7399\n",
            "Epoch 33/100\n",
            "330/330 [==============================] - 6s 17ms/step - loss: 0.3518 - accuracy: 0.7498 - val_loss: 0.3562 - val_accuracy: 0.7394\n",
            "Epoch 34/100\n",
            "330/330 [==============================] - 4s 13ms/step - loss: 0.3519 - accuracy: 0.7441 - val_loss: 0.3567 - val_accuracy: 0.7390\n",
            "Epoch 35/100\n",
            "330/330 [==============================] - 4s 13ms/step - loss: 0.3517 - accuracy: 0.7435 - val_loss: 0.3556 - val_accuracy: 0.7456\n",
            "Epoch 36/100\n",
            "330/330 [==============================] - 5s 14ms/step - loss: 0.3739 - accuracy: 0.7422 - val_loss: 0.3648 - val_accuracy: 0.7392\n",
            "Epoch 37/100\n",
            "330/330 [==============================] - 4s 13ms/step - loss: 0.3545 - accuracy: 0.7443 - val_loss: 0.3562 - val_accuracy: 0.7388\n",
            "Epoch 38/100\n",
            "330/330 [==============================] - 4s 13ms/step - loss: 0.3607 - accuracy: 0.7459 - val_loss: 0.3565 - val_accuracy: 0.7399\n",
            "Epoch 39/100\n",
            "330/330 [==============================] - 5s 14ms/step - loss: 0.3523 - accuracy: 0.7474 - val_loss: 0.3588 - val_accuracy: 0.7399\n",
            "Epoch 40/100\n",
            "330/330 [==============================] - 4s 13ms/step - loss: 0.3547 - accuracy: 0.7473 - val_loss: 0.3576 - val_accuracy: 0.7399\n",
            "Epoch 41/100\n",
            "330/330 [==============================] - 4s 13ms/step - loss: 0.3519 - accuracy: 0.7438 - val_loss: 0.3565 - val_accuracy: 0.7399\n",
            "Epoch 42/100\n",
            "330/330 [==============================] - 5s 16ms/step - loss: 0.3517 - accuracy: 0.7453 - val_loss: 0.3556 - val_accuracy: 0.7377\n",
            "Epoch 43/100\n",
            "330/330 [==============================] - 4s 13ms/step - loss: 0.3516 - accuracy: 0.7405 - val_loss: 0.3554 - val_accuracy: 0.7430\n",
            "Epoch 44/100\n",
            "330/330 [==============================] - 4s 13ms/step - loss: 0.3516 - accuracy: 0.7427 - val_loss: 0.3561 - val_accuracy: 0.7397\n",
            "Epoch 45/100\n",
            "330/330 [==============================] - 5s 14ms/step - loss: 0.3514 - accuracy: 0.7449 - val_loss: 0.3573 - val_accuracy: 0.7399\n",
            "Epoch 46/100\n",
            "330/330 [==============================] - 4s 13ms/step - loss: 0.3513 - accuracy: 0.7508 - val_loss: 0.3557 - val_accuracy: 0.7472\n",
            "Epoch 47/100\n",
            "330/330 [==============================] - 4s 13ms/step - loss: 0.3516 - accuracy: 0.7507 - val_loss: 0.3582 - val_accuracy: 0.7399\n",
            "Epoch 48/100\n",
            "330/330 [==============================] - 5s 16ms/step - loss: 0.3659 - accuracy: 0.7418 - val_loss: 0.3588 - val_accuracy: 0.7397\n",
            "Epoch 49/100\n",
            "330/330 [==============================] - 4s 13ms/step - loss: 0.3527 - accuracy: 0.7457 - val_loss: 0.3568 - val_accuracy: 0.7399\n",
            "Epoch 50/100\n",
            "330/330 [==============================] - 4s 13ms/step - loss: 0.3515 - accuracy: 0.7507 - val_loss: 0.3558 - val_accuracy: 0.7337\n",
            "Epoch 51/100\n",
            "330/330 [==============================] - 5s 17ms/step - loss: 0.3516 - accuracy: 0.7434 - val_loss: 0.3560 - val_accuracy: 0.7262\n",
            "Epoch 52/100\n",
            "330/330 [==============================] - 4s 13ms/step - loss: 0.3519 - accuracy: 0.7445 - val_loss: 0.3558 - val_accuracy: 0.7295\n",
            "Epoch 53/100\n",
            "330/330 [==============================] - 4s 13ms/step - loss: 0.3514 - accuracy: 0.7432 - val_loss: 0.3554 - val_accuracy: 0.7335\n",
            "Epoch 54/100\n",
            "330/330 [==============================] - 5s 14ms/step - loss: 0.3549 - accuracy: 0.7486 - val_loss: 0.3660 - val_accuracy: 0.7388\n",
            "Epoch 55/100\n",
            "330/330 [==============================] - 4s 13ms/step - loss: 0.3526 - accuracy: 0.7453 - val_loss: 0.3564 - val_accuracy: 0.7399\n",
            "Epoch 56/100\n",
            "330/330 [==============================] - 4s 13ms/step - loss: 0.3517 - accuracy: 0.7489 - val_loss: 0.3555 - val_accuracy: 0.7476\n",
            "Epoch 57/100\n",
            "330/330 [==============================] - 5s 14ms/step - loss: 0.3516 - accuracy: 0.7417 - val_loss: 0.3554 - val_accuracy: 0.7288\n",
            "Epoch 58/100\n",
            "330/330 [==============================] - 4s 13ms/step - loss: 0.3514 - accuracy: 0.7437 - val_loss: 0.3562 - val_accuracy: 0.7337\n",
            "Epoch 59/100\n",
            "330/330 [==============================] - 4s 13ms/step - loss: 0.3512 - accuracy: 0.7526 - val_loss: 0.3558 - val_accuracy: 0.7478\n",
            "Epoch 60/100\n",
            "330/330 [==============================] - 5s 14ms/step - loss: 0.3658 - accuracy: 0.7488 - val_loss: 0.3621 - val_accuracy: 0.7348\n",
            "Epoch 61/100\n",
            "330/330 [==============================] - 4s 13ms/step - loss: 0.3535 - accuracy: 0.7468 - val_loss: 0.3556 - val_accuracy: 0.7452\n",
            "Epoch 62/100\n",
            "330/330 [==============================] - 4s 13ms/step - loss: 0.3512 - accuracy: 0.7512 - val_loss: 0.3562 - val_accuracy: 0.7392\n",
            "Epoch 63/100\n",
            "330/330 [==============================] - 5s 16ms/step - loss: 0.3533 - accuracy: 0.7436 - val_loss: 0.3563 - val_accuracy: 0.7399\n",
            "Epoch 64/100\n",
            "330/330 [==============================] - 4s 13ms/step - loss: 0.3516 - accuracy: 0.7472 - val_loss: 0.3558 - val_accuracy: 0.7321\n",
            "Epoch 65/100\n",
            "330/330 [==============================] - 4s 13ms/step - loss: 0.3509 - accuracy: 0.7522 - val_loss: 0.3563 - val_accuracy: 0.7237\n",
            "Epoch 66/100\n",
            "330/330 [==============================] - 5s 14ms/step - loss: 0.3519 - accuracy: 0.7461 - val_loss: 0.3557 - val_accuracy: 0.7326\n",
            "Epoch 67/100\n",
            "330/330 [==============================] - 4s 13ms/step - loss: 0.3513 - accuracy: 0.7497 - val_loss: 0.3578 - val_accuracy: 0.7399\n",
            "Epoch 68/100\n",
            "330/330 [==============================] - 4s 13ms/step - loss: 0.3514 - accuracy: 0.7488 - val_loss: 0.3563 - val_accuracy: 0.7363\n",
            "Epoch 69/100\n",
            "330/330 [==============================] - 5s 14ms/step - loss: 0.3509 - accuracy: 0.7526 - val_loss: 0.3566 - val_accuracy: 0.7399\n",
            "Epoch 70/100\n",
            "330/330 [==============================] - 4s 13ms/step - loss: 0.3509 - accuracy: 0.7509 - val_loss: 0.3563 - val_accuracy: 0.7470\n",
            "Epoch 71/100\n",
            "330/330 [==============================] - 4s 13ms/step - loss: 0.3514 - accuracy: 0.7510 - val_loss: 0.3568 - val_accuracy: 0.7321\n",
            "Epoch 72/100\n",
            "330/330 [==============================] - 5s 16ms/step - loss: 0.3571 - accuracy: 0.7441 - val_loss: 0.3863 - val_accuracy: 0.7200\n",
            "Epoch 73/100\n",
            "330/330 [==============================] - 5s 15ms/step - loss: 0.3534 - accuracy: 0.7472 - val_loss: 0.3560 - val_accuracy: 0.7284\n",
            "Epoch 74/100\n",
            "330/330 [==============================] - 4s 14ms/step - loss: 0.3516 - accuracy: 0.7448 - val_loss: 0.3559 - val_accuracy: 0.7228\n",
            "Epoch 75/100\n",
            "330/330 [==============================] - 5s 15ms/step - loss: 0.3509 - accuracy: 0.7484 - val_loss: 0.3593 - val_accuracy: 0.7399\n",
            "Epoch 76/100\n",
            "330/330 [==============================] - 5s 15ms/step - loss: 0.3512 - accuracy: 0.7514 - val_loss: 0.3566 - val_accuracy: 0.7308\n",
            "Epoch 77/100\n",
            "330/330 [==============================] - 5s 14ms/step - loss: 0.3512 - accuracy: 0.7499 - val_loss: 0.3560 - val_accuracy: 0.7242\n",
            "Epoch 78/100\n",
            "330/330 [==============================] - 5s 15ms/step - loss: 0.3514 - accuracy: 0.7465 - val_loss: 0.3564 - val_accuracy: 0.7304\n",
            "Epoch 79/100\n",
            "330/330 [==============================] - 7s 20ms/step - loss: 0.3511 - accuracy: 0.7537 - val_loss: 0.3561 - val_accuracy: 0.7324\n",
            "Epoch 80/100\n",
            "330/330 [==============================] - 9s 26ms/step - loss: 0.3509 - accuracy: 0.7458 - val_loss: 0.3575 - val_accuracy: 0.7399\n",
            "Epoch 81/100\n",
            "330/330 [==============================] - 5s 17ms/step - loss: 0.3509 - accuracy: 0.7521 - val_loss: 0.3561 - val_accuracy: 0.7275\n",
            "Epoch 82/100\n",
            "330/330 [==============================] - 5s 14ms/step - loss: 0.3672 - accuracy: 0.7463 - val_loss: 0.3558 - val_accuracy: 0.7319\n",
            "Epoch 83/100\n",
            "330/330 [==============================] - 5s 17ms/step - loss: 0.3545 - accuracy: 0.7450 - val_loss: 0.3557 - val_accuracy: 0.7476\n",
            "Epoch 84/100\n",
            "330/330 [==============================] - 4s 13ms/step - loss: 0.3516 - accuracy: 0.7504 - val_loss: 0.3559 - val_accuracy: 0.7295\n",
            "Epoch 85/100\n",
            "330/330 [==============================] - 5s 16ms/step - loss: 0.3514 - accuracy: 0.7486 - val_loss: 0.3562 - val_accuracy: 0.7436\n",
            "Epoch 86/100\n",
            "330/330 [==============================] - 5s 16ms/step - loss: 0.3515 - accuracy: 0.7478 - val_loss: 0.3568 - val_accuracy: 0.7397\n",
            "Epoch 87/100\n",
            "330/330 [==============================] - 6s 17ms/step - loss: 0.3507 - accuracy: 0.7486 - val_loss: 0.3564 - val_accuracy: 0.7370\n",
            "Epoch 88/100\n",
            "330/330 [==============================] - 5s 15ms/step - loss: 0.3513 - accuracy: 0.7500 - val_loss: 0.3558 - val_accuracy: 0.7259\n",
            "Epoch 89/100\n",
            "330/330 [==============================] - 4s 13ms/step - loss: 0.3511 - accuracy: 0.7443 - val_loss: 0.3558 - val_accuracy: 0.7372\n",
            "Epoch 90/100\n",
            "330/330 [==============================] - 4s 13ms/step - loss: 0.3572 - accuracy: 0.7477 - val_loss: 0.3562 - val_accuracy: 0.7293\n",
            "Epoch 91/100\n",
            "330/330 [==============================] - 5s 16ms/step - loss: 0.3518 - accuracy: 0.7432 - val_loss: 0.3558 - val_accuracy: 0.7330\n",
            "Epoch 92/100\n",
            "330/330 [==============================] - 4s 13ms/step - loss: 0.3512 - accuracy: 0.7484 - val_loss: 0.3557 - val_accuracy: 0.7295\n",
            "Epoch 93/100\n",
            "330/330 [==============================] - 5s 16ms/step - loss: 0.3513 - accuracy: 0.7489 - val_loss: 0.3563 - val_accuracy: 0.7399\n",
            "Epoch 94/100\n",
            "330/330 [==============================] - 5s 14ms/step - loss: 0.3522 - accuracy: 0.7467 - val_loss: 0.3553 - val_accuracy: 0.7428\n",
            "Epoch 95/100\n",
            "330/330 [==============================] - 4s 13ms/step - loss: 0.3527 - accuracy: 0.7458 - val_loss: 0.3567 - val_accuracy: 0.7313\n",
            "Epoch 96/100\n",
            "330/330 [==============================] - 5s 15ms/step - loss: 0.3514 - accuracy: 0.7474 - val_loss: 0.3557 - val_accuracy: 0.7350\n",
            "Epoch 97/100\n",
            "330/330 [==============================] - 5s 16ms/step - loss: 0.3509 - accuracy: 0.7532 - val_loss: 0.3558 - val_accuracy: 0.7388\n",
            "Epoch 98/100\n",
            "330/330 [==============================] - 5s 14ms/step - loss: 0.3510 - accuracy: 0.7479 - val_loss: 0.3563 - val_accuracy: 0.7332\n",
            "Epoch 99/100\n",
            "330/330 [==============================] - 5s 14ms/step - loss: 0.3507 - accuracy: 0.7588 - val_loss: 0.3563 - val_accuracy: 0.7275\n",
            "Epoch 100/100\n",
            "330/330 [==============================] - 5s 14ms/step - loss: 0.3570 - accuracy: 0.7472 - val_loss: 0.3578 - val_accuracy: 0.7399\n"
          ]
        }
      ]
    },
    {
      "cell_type": "code",
      "source": [
        "#evaluate score\n",
        "score = model.evaluate(x_test, y_test, verbose=0)\n",
        "print('Test loss:', score[0])\n",
        "print('Test accuracy:', score[1])"
      ],
      "metadata": {
        "colab": {
          "base_uri": "https://localhost:8080/"
        },
        "id": "OrwHzoP8t5gk",
        "outputId": "59b706ce-0f99-429c-c39a-794bd3c75da1"
      },
      "execution_count": 20,
      "outputs": [
        {
          "output_type": "stream",
          "name": "stdout",
          "text": [
            "Test loss: 0.35781601071357727\n",
            "Test accuracy: 0.7398805618286133\n"
          ]
        }
      ]
    },
    {
      "cell_type": "code",
      "source": [
        "plt.plot(training.history['accuracy'])\n",
        "plt.plot(training.history['val_accuracy'])\n",
        "plt.title('model accuracy')\n",
        "plt.ylabel('accuracy')\n",
        "plt.xlabel('epoch')\n",
        "plt.legend(['train', 'validation'], loc='upper left')\n",
        "plt.show()"
      ],
      "metadata": {
        "id": "0p6VKtydoIBb",
        "outputId": "6c27cfdd-003b-4cc3-d644-28c006882813",
        "colab": {
          "base_uri": "https://localhost:8080/",
          "height": 472
        }
      },
      "execution_count": 21,
      "outputs": [
        {
          "output_type": "display_data",
          "data": {
            "text/plain": [
              "<Figure size 640x480 with 1 Axes>"
            ],
            "image/png": "[encoded data removed]"
          },
          "metadata": {}
        }
      ]
    },
    {
      "cell_type": "code",
      "source": [
        "model.save('model.h5')"
      ],
      "metadata": {
        "id": "POdBovJ8oIEe"
      },
      "execution_count": 22,
      "outputs": []
    },
    {
      "cell_type": "code",
      "source": [
        "!cp model.h5 '/content/drive/MyDrive/projectAI/'"
      ],
      "metadata": {
        "id": "r-x7ejrUoUp7"
      },
      "execution_count": 23,
      "outputs": []
    }
  ]
}